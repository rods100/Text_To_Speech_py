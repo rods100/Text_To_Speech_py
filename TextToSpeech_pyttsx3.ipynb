{
 "cells": [
  {
   "cell_type": "code",
   "execution_count": 1,
   "id": "079b0c4e",
   "metadata": {},
   "outputs": [],
   "source": [
    "import pyttsx3"
   ]
  },
  {
   "cell_type": "code",
   "execution_count": 2,
   "id": "1e56ce06",
   "metadata": {},
   "outputs": [],
   "source": [
    "# initialize Text-to-speech engine\n",
    "engine = pyttsx3.init()"
   ]
  },
  {
   "cell_type": "code",
   "execution_count": 3,
   "id": "df9c4fe8",
   "metadata": {},
   "outputs": [],
   "source": [
    "# convert this text to speech\n",
    "text = \"Python is a great programming language\"\n",
    "engine.say(text)\n",
    "# play the speech\n",
    "engine.runAndWait()"
   ]
  },
  {
   "cell_type": "code",
   "execution_count": 4,
   "id": "533e77c6",
   "metadata": {},
   "outputs": [
    {
     "name": "stdout",
     "output_type": "stream",
     "text": [
      "200\n"
     ]
    }
   ],
   "source": [
    "# get details of speaking rate\n",
    "rate = engine.getProperty(\"rate\")\n",
    "print(rate)"
   ]
  },
  {
   "cell_type": "code",
   "execution_count": 5,
   "id": "d37ebfdd",
   "metadata": {},
   "outputs": [],
   "source": [
    "# setting new voice rate (faster)\n",
    "engine.setProperty(\"rate\", 300)\n",
    "engine.say(text)\n",
    "engine.runAndWait()"
   ]
  },
  {
   "cell_type": "code",
   "execution_count": 6,
   "id": "09f1df7f",
   "metadata": {},
   "outputs": [],
   "source": [
    "# slower\n",
    "engine.setProperty(\"rate\", 100)\n",
    "engine.say(text)\n",
    "engine.runAndWait()"
   ]
  },
  {
   "cell_type": "code",
   "execution_count": 7,
   "id": "4f6b40a9",
   "metadata": {},
   "outputs": [
    {
     "name": "stdout",
     "output_type": "stream",
     "text": [
      "[<pyttsx3.voice.Voice object at 0x00000257C499CCA0>, <pyttsx3.voice.Voice object at 0x00000257C49A5E20>]\n"
     ]
    }
   ],
   "source": [
    "# get details of all voices available\n",
    "voices = engine.getProperty(\"voices\")\n",
    "print(voices)"
   ]
  },
  {
   "cell_type": "code",
   "execution_count": 8,
   "id": "584d02ce",
   "metadata": {},
   "outputs": [],
   "source": [
    "# set another voice\n",
    "engine.setProperty(\"voice\", voices[1].id)\n",
    "engine.say(text)\n",
    "engine.runAndWait()"
   ]
  },
  {
   "cell_type": "code",
   "execution_count": 9,
   "id": "6aca2172",
   "metadata": {},
   "outputs": [],
   "source": [
    "# saving speech audio into a file\n",
    "engine.save_to_file(text, \"python.mp3\")\n",
    "engine.runAndWait()"
   ]
  },
  {
   "cell_type": "code",
   "execution_count": null,
   "id": "5afd9d93",
   "metadata": {},
   "outputs": [],
   "source": []
  }
 ],
 "metadata": {
  "kernelspec": {
   "display_name": "tfodj",
   "language": "python",
   "name": "tfodj"
  },
  "language_info": {
   "codemirror_mode": {
    "name": "ipython",
    "version": 3
   },
   "file_extension": ".py",
   "mimetype": "text/x-python",
   "name": "python",
   "nbconvert_exporter": "python",
   "pygments_lexer": "ipython3",
   "version": "3.8.10"
  }
 },
 "nbformat": 4,
 "nbformat_minor": 5
}
