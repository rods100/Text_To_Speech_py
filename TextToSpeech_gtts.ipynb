{
 "cells": [
  {
   "cell_type": "code",
   "execution_count": null,
   "id": "51d8cdd4",
   "metadata": {
    "scrolled": true
   },
   "outputs": [],
   "source": [
    "!pip3 install gTTS pyttsx3 playsound"
   ]
  },
  {
   "cell_type": "code",
   "execution_count": 1,
   "id": "2a26b71c",
   "metadata": {},
   "outputs": [],
   "source": [
    "import gtts\n",
    "from playsound import playsound"
   ]
  },
  {
   "cell_type": "code",
   "execution_count": null,
   "id": "ba6a1f21",
   "metadata": {},
   "outputs": [],
   "source": [
    "tocaDj = playsound"
   ]
  },
  {
   "cell_type": "code",
   "execution_count": 2,
   "id": "24b6d4be",
   "metadata": {},
   "outputs": [],
   "source": [
    "# make request to google to get synthesis\n",
    "tts = gtts.gTTS(\"Hello world\")"
   ]
  },
  {
   "cell_type": "code",
   "execution_count": 3,
   "id": "f8daff9e",
   "metadata": {},
   "outputs": [],
   "source": [
    "# save the audio file\n",
    "tts.save(\"hello.mp3\")"
   ]
  },
  {
   "cell_type": "code",
   "execution_count": 4,
   "id": "9682149f",
   "metadata": {
    "scrolled": true
   },
   "outputs": [],
   "source": [
    "# play the audio file\n",
    "playsound(\"hello.mp3\")"
   ]
  },
  {
   "cell_type": "code",
   "execution_count": 5,
   "id": "5e9883a4",
   "metadata": {},
   "outputs": [],
   "source": [
    "# in spanish\n",
    "tts = gtts.gTTS(\"Hola Mundo\", lang=\"es\")\n",
    "tts.save(\"hola.mp3\")\n",
    "playsound(\"hola.mp3\")"
   ]
  },
  {
   "cell_type": "code",
   "execution_count": null,
   "id": "d494d9f9",
   "metadata": {},
   "outputs": [],
   "source": [
    "# all available languages along with their IETF tag\n",
    "print(gtts.lang.tts_langs())"
   ]
  },
  {
   "cell_type": "code",
   "execution_count": 6,
   "id": "39368803",
   "metadata": {},
   "outputs": [],
   "source": [
    "# in portuguese\n",
    "tts = gtts.gTTS(\"Olá Mundo!\", lang=\"pt-br\")\n",
    "tts.save(\"hola1.mp3\")\n",
    "playsound(\"hola1.mp3\")"
   ]
  },
  {
   "cell_type": "code",
   "execution_count": null,
   "id": "566ecbba",
   "metadata": {},
   "outputs": [],
   "source": []
  },
  {
   "cell_type": "code",
   "execution_count": null,
   "id": "fca911f5",
   "metadata": {},
   "outputs": [],
   "source": []
  }
 ],
 "metadata": {
  "kernelspec": {
   "display_name": "tfodj",
   "language": "python",
   "name": "tfodj"
  },
  "language_info": {
   "codemirror_mode": {
    "name": "ipython",
    "version": 3
   },
   "file_extension": ".py",
   "mimetype": "text/x-python",
   "name": "python",
   "nbconvert_exporter": "python",
   "pygments_lexer": "ipython3",
   "version": "3.8.10"
  }
 },
 "nbformat": 4,
 "nbformat_minor": 5
}
